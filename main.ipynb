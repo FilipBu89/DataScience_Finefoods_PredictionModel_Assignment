{
 "cells": [
  {
   "cell_type": "code",
   "execution_count": 1,
   "metadata": {},
   "outputs": [
    {
     "data": {
      "text/plain": [
       "SGDClassifier(random_state=42)"
      ]
     },
     "execution_count": 1,
     "metadata": {},
     "output_type": "execute_result"
    }
   ],
   "source": [
    "#===================================================================#\n",
    "# Created by Filip Bunta for Lundegaard data science interview task #\n",
    "#===================================================================#\n",
    "import os\n",
    "import pandas as pd\n",
    "import numpy as np\n",
    "from sklearn.linear_model import SGDClassifier\n",
    "from sklearn.model_selection import cross_val_predict, cross_val_score, train_test_split\n",
    "from sklearn.metrics import confusion_matrix, precision_score, recall_score\n",
    "from get_data import convert_to_dataframe\n",
    "from utilities import count_unique_words\n",
    "from transformers import CategorizeTransformer, VectorizeTransformer\n",
    "# Load data\n",
    "filename = os.path.join(\"datasets\",\"finefoods\",\"finefoods.txt\")\n",
    "df = convert_to_dataframe(filename)\n",
    "df = df.astype({\"Score\": float})\n",
    "\n",
    "# Split into train/test data    \n",
    "df_train_set_copy, df_test_set_copy = train_test_split(df, test_size=0.2, random_state=42)\n",
    "df_train_set = df_train_set_copy.reset_index()\n",
    "df_test_set = df_test_set_copy.reset_index()\n",
    "\n",
    "# Initialize transformers\n",
    "cat_transf = CategorizeTransformer()\n",
    "vect_transf = VectorizeTransformer()\n",
    "\n",
    "# TRAIN SECTION - TRAIN MODEL\n",
    "y_train = cat_transf.fit_transform(df_train_set)\n",
    "x_train = vect_transf.fit_transform(df_train_set)\n",
    "\n",
    "sgd_clf = SGDClassifier(random_state=42)\n",
    "sgd_clf.fit(x_train,y_train)"
   ]
  },
  {
   "cell_type": "code",
   "execution_count": 2,
   "metadata": {},
   "outputs": [
    {
     "name": "stdout",
     "output_type": "stream",
     "text": [
      "TRAIN SECTION:\n",
      "Cross-validation score results for train set:\n"
     ]
    },
    {
     "data": {
      "text/plain": [
       "array([0.8712678 , 0.87183513, 0.87097668])"
      ]
     },
     "execution_count": 2,
     "metadata": {},
     "output_type": "execute_result"
    }
   ],
   "source": [
    "# TRAIN SECTION - GET CROSS-VALIDATION RESULTS\n",
    "y_train_pred = cross_val_predict(sgd_clf, x_train, y_train, cv=3)\n",
    "print(\"TRAIN SECTION:\\nCross-validation score results for train set:\")\n",
    "cross_val_score(sgd_clf, x_train, y_train, cv=3, scoring=\"accuracy\")"
   ]
  },
  {
   "cell_type": "code",
   "execution_count": 3,
   "metadata": {},
   "outputs": [
    {
     "name": "stdout",
     "output_type": "stream",
     "text": [
      "TRAIN SECTION:\n",
      "Precision score: 0.8751409954677192 vs Recall score: 0.9910431343118634\n",
      "\n",
      "Confusion matrix results for train set:\n"
     ]
    },
    {
     "data": {
      "text/plain": [
       "array([[ 10655,  55015],\n",
       "       [  3485, 385602]], dtype=int64)"
      ]
     },
     "execution_count": 3,
     "metadata": {},
     "output_type": "execute_result"
    }
   ],
   "source": [
    "# TRAIN SECTION - GET CONFUSION MATRIX RESULTS\n",
    "precision_score_train = precision_score(y_train, y_train_pred)\n",
    "recall_score_train = recall_score(y_train, y_train_pred)\n",
    "print(f\"TRAIN SECTION:\\nPrecision score: {precision_score_train} vs Recall score: {recall_score_train}\")\n",
    "print(\"\\nConfusion matrix results for train set:\")\n",
    "confusion_matrix(y_train, y_train_pred)"
   ]
  },
  {
   "cell_type": "code",
   "execution_count": 4,
   "metadata": {},
   "outputs": [
    {
     "name": "stdout",
     "output_type": "stream",
     "text": [
      "TEST SECTION:\n",
      "Cross-validation score results for test set:\n"
     ]
    },
    {
     "data": {
      "text/plain": [
       "array([0.8712563 , 0.8718896 , 0.87288896])"
      ]
     },
     "execution_count": 4,
     "metadata": {},
     "output_type": "execute_result"
    }
   ],
   "source": [
    "# TEST SECTION - GET CROSS-VALIDATION RESULTS\n",
    "y_test = cat_transf.fit_transform(df_test_set)\n",
    "x_test = vect_transf.fit_transform(df_test_set)\n",
    "y_test_pred = cross_val_predict(sgd_clf, x_test, y_test, cv=3)\n",
    "print(\"TEST SECTION:\\nCross-validation score results for test set:\")\n",
    "cross_val_score(sgd_clf, x_test, y_test, cv=3, scoring=\"accuracy\")"
   ]
  },
  {
   "cell_type": "code",
   "execution_count": 5,
   "metadata": {},
   "outputs": [
    {
     "name": "stdout",
     "output_type": "stream",
     "text": [
      "TEST SECTION:\n",
      "Precision score: 0.8754388352156756 vs Recall score: 0.9915745345444084\n",
      "\n",
      "Confusion matrix results for test set:\n"
     ]
    },
    {
     "data": {
      "text/plain": [
       "array([[ 2635, 13731],\n",
       "       [  820, 96504]], dtype=int64)"
      ]
     },
     "execution_count": 5,
     "metadata": {},
     "output_type": "execute_result"
    }
   ],
   "source": [
    "# TEST SECTION - GET CONFUSION MATRIX RESULTS\n",
    "precision_score_test = precision_score(y_test, y_test_pred)\n",
    "recall_score_test = recall_score(y_test, y_test_pred)\n",
    "print(f\"TEST SECTION:\\nPrecision score: {precision_score_test} vs Recall score: {recall_score_test}\")\n",
    "print(\"\\nConfusion matrix results for test set:\")\n",
    "confusion_matrix(y_test, y_test_pred)"
   ]
  },
  {
   "cell_type": "code",
   "execution_count": null,
   "metadata": {},
   "outputs": [],
   "source": []
  }
 ],
 "metadata": {
  "kernelspec": {
   "display_name": "Python 3 (ipykernel)",
   "language": "python",
   "name": "python3"
  },
  "language_info": {
   "codemirror_mode": {
    "name": "ipython",
    "version": 3
   },
   "file_extension": ".py",
   "mimetype": "text/x-python",
   "name": "python",
   "nbconvert_exporter": "python",
   "pygments_lexer": "ipython3",
   "version": "3.7.1"
  },
  "vscode": {
   "interpreter": {
    "hash": "25a19fbe0a9132dfb9279d48d161753c6352f8f9478c2e74383d340069b907c3"
   }
  }
 },
 "nbformat": 4,
 "nbformat_minor": 2
}
